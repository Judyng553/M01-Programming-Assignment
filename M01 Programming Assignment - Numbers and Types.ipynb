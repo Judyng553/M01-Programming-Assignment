{
 "cells": [
  {
   "cell_type": "code",
   "execution_count": 12,
   "id": "b5163f61",
   "metadata": {},
   "outputs": [
    {
     "name": "stdout",
     "output_type": "stream",
     "text": [
      "How many seconds are in an hour?:  3600\n"
     ]
    }
   ],
   "source": [
    "# 3.1\n",
    "seconds_in_min=60\n",
    "min_in_hour=60\n",
    "seconds_in_hour=seconds_in_min*min_in_hour\n",
    "print(\"How many seconds are in an hour?: \", seconds_in_hour)"
   ]
  },
  {
   "cell_type": "code",
   "execution_count": 13,
   "id": "85f87326",
   "metadata": {},
   "outputs": [
    {
     "name": "stdout",
     "output_type": "stream",
     "text": [
      "3600\n"
     ]
    }
   ],
   "source": [
    "# 3.2\n",
    "seconds_per_hour = seconds_in_hour\n",
    "print(seconds_per_hour)"
   ]
  },
  {
   "cell_type": "code",
   "execution_count": 15,
   "id": "a8f30030",
   "metadata": {},
   "outputs": [
    {
     "name": "stdout",
     "output_type": "stream",
     "text": [
      "How many seconds are in a day?:  86400\n"
     ]
    }
   ],
   "source": [
    "# 3.3\n",
    "hour_in_day=24\n",
    "seconds_per_day=seconds_per_hour*hour_in_day\n",
    "print(\"How many seconds are in a day?: \", seconds_per_day)"
   ]
  },
  {
   "cell_type": "code",
   "execution_count": 16,
   "id": "b7df8a19",
   "metadata": {},
   "outputs": [
    {
     "name": "stdout",
     "output_type": "stream",
     "text": [
      "86400\n"
     ]
    }
   ],
   "source": [
    "# 3.4\n",
    "seconds_per_day=seconds_per_hour*hour_in_day\n",
    "print(seconds_per_day)"
   ]
  },
  {
   "cell_type": "code",
   "execution_count": 17,
   "id": "aedb3fa7",
   "metadata": {},
   "outputs": [
    {
     "name": "stdout",
     "output_type": "stream",
     "text": [
      "Floating-point division:  24.0\n"
     ]
    }
   ],
   "source": [
    "# 3.5\n",
    "floating_division=seconds_per_day/seconds_per_hour\n",
    "print(\"Floating-point division: \", floating_division)"
   ]
  },
  {
   "cell_type": "code",
   "execution_count": 18,
   "id": "0eb40114",
   "metadata": {},
   "outputs": [
    {
     "name": "stdout",
     "output_type": "stream",
     "text": [
      "Integer division:  24\n"
     ]
    }
   ],
   "source": [
    "# 3.6\n",
    "integer_division=seconds_per_day//seconds_per_hour\n",
    "print(\"Integer division: \", integer_division)"
   ]
  },
  {
   "cell_type": "code",
   "execution_count": 19,
   "id": "9fda15ce",
   "metadata": {},
   "outputs": [],
   "source": [
    "# Yes, this number agree with the floating-point value because \n",
    "# integer dicision discards the decimal part while the floating-\n",
    "# point division keeps the decimal part."
   ]
  },
  {
   "cell_type": "code",
   "execution_count": null,
   "id": "ac93f580",
   "metadata": {},
   "outputs": [],
   "source": []
  }
 ],
 "metadata": {
  "kernelspec": {
   "display_name": "Python 3 (ipykernel)",
   "language": "python",
   "name": "python3"
  },
  "language_info": {
   "codemirror_mode": {
    "name": "ipython",
    "version": 3
   },
   "file_extension": ".py",
   "mimetype": "text/x-python",
   "name": "python",
   "nbconvert_exporter": "python",
   "pygments_lexer": "ipython3",
   "version": "3.11.5"
  }
 },
 "nbformat": 4,
 "nbformat_minor": 5
}
